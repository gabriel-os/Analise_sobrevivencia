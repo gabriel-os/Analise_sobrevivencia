{
 "cells": [
  {
   "cell_type": "code",
   "execution_count": null,
   "metadata": {
    "scrolled": true
   },
   "outputs": [],
   "source": [
    "#Instalando módulo necessária para a análise\n",
    "!pip install lifelines==0.26.3"
   ]
  },
  {
   "cell_type": "code",
   "execution_count": 171,
   "metadata": {},
   "outputs": [
    {
     "name": "stdout",
     "output_type": "stream",
     "text": [
      "Python 3.9.9\n"
     ]
    }
   ],
   "source": [
    "#Versão do Python\n",
    "!python3 --version"
   ]
  },
  {
   "cell_type": "code",
   "execution_count": 1,
   "metadata": {},
   "outputs": [],
   "source": [
    "#Importando módulos para a análise\n",
    "import pandas as pd\n",
    "import numpy as np\n",
    "import matplotlib.pyplot as plt\n",
    "import seaborn as sb\n",
    "from lifelines.plotting import plot_lifetimes\n",
    "from lifelines import KaplanMeierFitter\n",
    "from lifelines import CoxPHFitter"
   ]
  },
  {
   "cell_type": "code",
   "execution_count": 180,
   "metadata": {},
   "outputs": [
    {
     "name": "stdout",
     "output_type": "stream",
     "text": [
      "Pandas: 1.1.3\n",
      "Numpy: 1.19.2\n",
      "Seaborn: 0.11.0\n",
      "Matplotlib: 3.3.2\n",
      "Lifelines: 0.26.3\n"
     ]
    }
   ],
   "source": [
    "#Versões utilizadas\n",
    "print(\"Pandas: \" + pd.__version__)\n",
    "print(\"Numpy: \" + np.__version__)\n",
    "print(\"Seaborn: \" + sb.__version__)\n",
    "print(\"Matplotlib: \" + matplotlib.__version__)\n",
    "print(\"Lifelines: 0.26.3\")"
   ]
  },
  {
   "cell_type": "code",
   "execution_count": 2,
   "metadata": {},
   "outputs": [
    {
     "name": "stdout",
     "output_type": "stream",
     "text": [
      "Populating the interactive namespace from numpy and matplotlib\n"
     ]
    }
   ],
   "source": [
    "#Configurações para as plotagens\n",
    "%pylab inline\n",
    "figsize(12,6)"
   ]
  },
  {
   "cell_type": "code",
   "execution_count": 3,
   "metadata": {},
   "outputs": [],
   "source": [
    "#Configurações do dataframe\n",
    "\n",
    "#Removendo limite máximo de colunas para vizualização\n",
    "pd.options.display.max_columns = None"
   ]
  },
  {
   "cell_type": "code",
   "execution_count": 36,
   "metadata": {},
   "outputs": [],
   "source": [
    "#Importando o dataset\n",
    "df_info_assinatura = pd.read_csv('Data/CustomerChurn.csv', sep=';')\n",
    "df_info_cons = pd.read_csv('Data/CustomerChurnInfos.csv', sep=';')"
   ]
  },
  {
   "cell_type": "code",
   "execution_count": 116,
   "metadata": {},
   "outputs": [],
   "source": [
    "#Fazendo o cruzamento das informações\n",
    "df = pd.merge(df_info_assinatura, df_info_cons[['Customer ID','Country','State', 'Gender', 'Churn Reason', 'CLTV']], how=\"left\", on=[\"Customer ID\"])"
   ]
  },
  {
   "cell_type": "code",
   "execution_count": 40,
   "metadata": {},
   "outputs": [
    {
     "data": {
      "text/html": [
       "<div>\n",
       "<style scoped>\n",
       "    .dataframe tbody tr th:only-of-type {\n",
       "        vertical-align: middle;\n",
       "    }\n",
       "\n",
       "    .dataframe tbody tr th {\n",
       "        vertical-align: top;\n",
       "    }\n",
       "\n",
       "    .dataframe thead th {\n",
       "        text-align: right;\n",
       "    }\n",
       "</style>\n",
       "<table border=\"1\" class=\"dataframe\">\n",
       "  <thead>\n",
       "    <tr style=\"text-align: right;\">\n",
       "      <th></th>\n",
       "      <th>LoyaltyID</th>\n",
       "      <th>Customer ID</th>\n",
       "      <th>Senior Citizen</th>\n",
       "      <th>Partner</th>\n",
       "      <th>Dependents</th>\n",
       "      <th>Tenure</th>\n",
       "      <th>Phone Service</th>\n",
       "      <th>Multiple Lines</th>\n",
       "      <th>Internet Service</th>\n",
       "      <th>Online Security</th>\n",
       "      <th>Online Backup</th>\n",
       "      <th>Device Protection</th>\n",
       "      <th>Tech Support</th>\n",
       "      <th>Streaming TV</th>\n",
       "      <th>Streaming Movies</th>\n",
       "      <th>Contract</th>\n",
       "      <th>Paperless Billing</th>\n",
       "      <th>Payment Method</th>\n",
       "      <th>Monthly Charges</th>\n",
       "      <th>Total Charges</th>\n",
       "      <th>Churn</th>\n",
       "      <th>Country</th>\n",
       "      <th>State</th>\n",
       "      <th>Gender</th>\n",
       "      <th>Churn Reason</th>\n",
       "      <th>CLTV</th>\n",
       "    </tr>\n",
       "  </thead>\n",
       "  <tbody>\n",
       "    <tr>\n",
       "      <th>0</th>\n",
       "      <td>318537</td>\n",
       "      <td>7590-VHVEG</td>\n",
       "      <td>No</td>\n",
       "      <td>Yes</td>\n",
       "      <td>No</td>\n",
       "      <td>1</td>\n",
       "      <td>No</td>\n",
       "      <td>No phone service</td>\n",
       "      <td>DSL</td>\n",
       "      <td>No</td>\n",
       "      <td>Yes</td>\n",
       "      <td>No</td>\n",
       "      <td>No</td>\n",
       "      <td>No</td>\n",
       "      <td>No</td>\n",
       "      <td>Month-to-month</td>\n",
       "      <td>Yes</td>\n",
       "      <td>Electronic check</td>\n",
       "      <td>29,85</td>\n",
       "      <td>29,85</td>\n",
       "      <td>No</td>\n",
       "      <td>United States</td>\n",
       "      <td>California</td>\n",
       "      <td>Female</td>\n",
       "      <td>NaN</td>\n",
       "      <td>3964</td>\n",
       "    </tr>\n",
       "    <tr>\n",
       "      <th>1</th>\n",
       "      <td>152148</td>\n",
       "      <td>5575-GNVDE</td>\n",
       "      <td>No</td>\n",
       "      <td>No</td>\n",
       "      <td>No</td>\n",
       "      <td>34</td>\n",
       "      <td>Yes</td>\n",
       "      <td>No</td>\n",
       "      <td>DSL</td>\n",
       "      <td>Yes</td>\n",
       "      <td>No</td>\n",
       "      <td>Yes</td>\n",
       "      <td>No</td>\n",
       "      <td>No</td>\n",
       "      <td>No</td>\n",
       "      <td>One year</td>\n",
       "      <td>No</td>\n",
       "      <td>Mailed check</td>\n",
       "      <td>56,95</td>\n",
       "      <td>1889,5</td>\n",
       "      <td>No</td>\n",
       "      <td>United States</td>\n",
       "      <td>California</td>\n",
       "      <td>Male</td>\n",
       "      <td>NaN</td>\n",
       "      <td>3441</td>\n",
       "    </tr>\n",
       "    <tr>\n",
       "      <th>2</th>\n",
       "      <td>326527</td>\n",
       "      <td>3668-QPYBK</td>\n",
       "      <td>No</td>\n",
       "      <td>No</td>\n",
       "      <td>No</td>\n",
       "      <td>2</td>\n",
       "      <td>Yes</td>\n",
       "      <td>No</td>\n",
       "      <td>DSL</td>\n",
       "      <td>Yes</td>\n",
       "      <td>Yes</td>\n",
       "      <td>No</td>\n",
       "      <td>No</td>\n",
       "      <td>No</td>\n",
       "      <td>No</td>\n",
       "      <td>Month-to-month</td>\n",
       "      <td>Yes</td>\n",
       "      <td>Mailed check</td>\n",
       "      <td>53,85</td>\n",
       "      <td>108,15</td>\n",
       "      <td>Yes</td>\n",
       "      <td>United States</td>\n",
       "      <td>California</td>\n",
       "      <td>Male</td>\n",
       "      <td>Competitor made better offer</td>\n",
       "      <td>3239</td>\n",
       "    </tr>\n",
       "    <tr>\n",
       "      <th>3</th>\n",
       "      <td>845894</td>\n",
       "      <td>7795-CFOCW</td>\n",
       "      <td>No</td>\n",
       "      <td>No</td>\n",
       "      <td>No</td>\n",
       "      <td>45</td>\n",
       "      <td>No</td>\n",
       "      <td>No phone service</td>\n",
       "      <td>DSL</td>\n",
       "      <td>Yes</td>\n",
       "      <td>No</td>\n",
       "      <td>Yes</td>\n",
       "      <td>Yes</td>\n",
       "      <td>No</td>\n",
       "      <td>No</td>\n",
       "      <td>One year</td>\n",
       "      <td>No</td>\n",
       "      <td>Bank transfer (automatic)</td>\n",
       "      <td>42,3</td>\n",
       "      <td>1840,75</td>\n",
       "      <td>No</td>\n",
       "      <td>United States</td>\n",
       "      <td>California</td>\n",
       "      <td>Male</td>\n",
       "      <td>NaN</td>\n",
       "      <td>4307</td>\n",
       "    </tr>\n",
       "    <tr>\n",
       "      <th>4</th>\n",
       "      <td>503388</td>\n",
       "      <td>9237-HQITU</td>\n",
       "      <td>No</td>\n",
       "      <td>No</td>\n",
       "      <td>No</td>\n",
       "      <td>2</td>\n",
       "      <td>Yes</td>\n",
       "      <td>No</td>\n",
       "      <td>Fiber optic</td>\n",
       "      <td>No</td>\n",
       "      <td>No</td>\n",
       "      <td>No</td>\n",
       "      <td>No</td>\n",
       "      <td>No</td>\n",
       "      <td>No</td>\n",
       "      <td>Month-to-month</td>\n",
       "      <td>Yes</td>\n",
       "      <td>Electronic check</td>\n",
       "      <td>70,7</td>\n",
       "      <td>151,65</td>\n",
       "      <td>Yes</td>\n",
       "      <td>United States</td>\n",
       "      <td>California</td>\n",
       "      <td>Female</td>\n",
       "      <td>Moved</td>\n",
       "      <td>2701</td>\n",
       "    </tr>\n",
       "  </tbody>\n",
       "</table>\n",
       "</div>"
      ],
      "text/plain": [
       "   LoyaltyID Customer ID Senior Citizen Partner Dependents  Tenure  \\\n",
       "0     318537  7590-VHVEG             No     Yes         No       1   \n",
       "1     152148  5575-GNVDE             No      No         No      34   \n",
       "2     326527  3668-QPYBK             No      No         No       2   \n",
       "3     845894  7795-CFOCW             No      No         No      45   \n",
       "4     503388  9237-HQITU             No      No         No       2   \n",
       "\n",
       "  Phone Service    Multiple Lines Internet Service Online Security  \\\n",
       "0            No  No phone service              DSL              No   \n",
       "1           Yes                No              DSL             Yes   \n",
       "2           Yes                No              DSL             Yes   \n",
       "3            No  No phone service              DSL             Yes   \n",
       "4           Yes                No      Fiber optic              No   \n",
       "\n",
       "  Online Backup Device Protection Tech Support Streaming TV Streaming Movies  \\\n",
       "0           Yes                No           No           No               No   \n",
       "1            No               Yes           No           No               No   \n",
       "2           Yes                No           No           No               No   \n",
       "3            No               Yes          Yes           No               No   \n",
       "4            No                No           No           No               No   \n",
       "\n",
       "         Contract Paperless Billing             Payment Method  \\\n",
       "0  Month-to-month               Yes           Electronic check   \n",
       "1        One year                No               Mailed check   \n",
       "2  Month-to-month               Yes               Mailed check   \n",
       "3        One year                No  Bank transfer (automatic)   \n",
       "4  Month-to-month               Yes           Electronic check   \n",
       "\n",
       "  Monthly Charges Total Charges Churn        Country       State  Gender  \\\n",
       "0           29,85         29,85    No  United States  California  Female   \n",
       "1           56,95        1889,5    No  United States  California    Male   \n",
       "2           53,85        108,15   Yes  United States  California    Male   \n",
       "3            42,3       1840,75    No  United States  California    Male   \n",
       "4            70,7        151,65   Yes  United States  California  Female   \n",
       "\n",
       "                   Churn Reason  CLTV  \n",
       "0                           NaN  3964  \n",
       "1                           NaN  3441  \n",
       "2  Competitor made better offer  3239  \n",
       "3                           NaN  4307  \n",
       "4                         Moved  2701  "
      ]
     },
     "execution_count": 40,
     "metadata": {},
     "output_type": "execute_result"
    }
   ],
   "source": [
    "#Checando se o read_csv ocorreu da maneira correta\n",
    "df.head()"
   ]
  },
  {
   "cell_type": "markdown",
   "metadata": {},
   "source": [
    "<h3>Dataprep</h3><br/><h4>Tratamento dos dados"
   ]
  },
  {
   "cell_type": "code",
   "execution_count": 117,
   "metadata": {},
   "outputs": [
    {
     "data": {
      "text/plain": [
       "Index(['LoyaltyID', 'Customer ID', 'Senior Citizen', 'Partner', 'Dependents',\n",
       "       'Tenure', 'Phone Service', 'Multiple Lines', 'Internet Service',\n",
       "       'Online Security', 'Online Backup', 'Device Protection', 'Tech Support',\n",
       "       'Streaming TV', 'Streaming Movies', 'Contract', 'Paperless Billing',\n",
       "       'Payment Method', 'Monthly Charges', 'Total Charges', 'Churn',\n",
       "       'Country', 'State', 'Gender', 'Churn Reason', 'CLTV'],\n",
       "      dtype='object')"
      ]
     },
     "execution_count": 117,
     "metadata": {},
     "output_type": "execute_result"
    }
   ],
   "source": [
    "#Listando todas as colunas\n",
    "df.columns"
   ]
  },
  {
   "cell_type": "code",
   "execution_count": 118,
   "metadata": {},
   "outputs": [],
   "source": [
    "#Renomeando todas as colunas para Português\n",
    "depara = {\n",
    "          'Senior Citizen':'Idoso', \n",
    "          'Partner':'Possui_parceiro', \n",
    "          'Dependents':'Possui_dependentes',\n",
    "          'Tenure':'Meses_relacionamento',\n",
    "          'Phone Service':'Possui_telefonia',\n",
    "          'Multiple Lines':'Multipla_linha_tel',\n",
    "          'Internet Service':'Provedor_internet',\n",
    "          'Online Security':'Possui_seguranca_online',\n",
    "          'Online Backup':'Possui_backup_online',\n",
    "          'Device Protection':'Possui_seguro_dispositivo',\n",
    "          'Tech Support':'Usou_suporte_tecnico',\n",
    "          'Streaming TV':'Assinatura_TV',\n",
    "          'Streaming Movies':'Assinatura_Filmes',\n",
    "          'Contract':'Tipo_contrato',\n",
    "          'Paperless Billing':'Fatura_digital',\n",
    "          'Payment Method':'Meio_pagamento',\n",
    "          'Monthly Charges':'Preco_mensal',\n",
    "          'Total Charges':'Preco_total',\n",
    "          'Churn':'Churn',\n",
    "          'Churn Reason':'Motivo do Churn',\n",
    "          'Gender':'Genero',\n",
    "          'Country':'Pais',\n",
    "          'State':'Estado',\n",
    "         }\n",
    "df.rename(columns = depara, inplace = True)"
   ]
  },
  {
   "cell_type": "code",
   "execution_count": 119,
   "metadata": {},
   "outputs": [],
   "source": [
    "#Binarizando variáveis que serão utilizadas\n",
    "def dummy_var(col):\n",
    "    df.loc[df[col] == 'Yes', [col]] = 1\n",
    "    df.loc[df[col] == 'No', [col]] = 0\n",
    "\n",
    "dummy_var('Idoso')\n",
    "dummy_var('Churn')"
   ]
  },
  {
   "cell_type": "code",
   "execution_count": 113,
   "metadata": {},
   "outputs": [
    {
     "data": {
      "text/plain": [
       "(7043, 26)"
      ]
     },
     "execution_count": 113,
     "metadata": {},
     "output_type": "execute_result"
    }
   ],
   "source": [
    "#Checando volumetria do dataframe\n",
    "df.shape"
   ]
  },
  {
   "cell_type": "code",
   "execution_count": 120,
   "metadata": {},
   "outputs": [],
   "source": [
    "#Troca , para .\n",
    "df[\"Preco_mensal\"]=df[\"Preco_mensal\"].str.replace(',','.')\n",
    "df[\"Preco_total\"]=df[\"Preco_total\"].str.replace(',','.')"
   ]
  },
  {
   "cell_type": "code",
   "execution_count": 125,
   "metadata": {},
   "outputs": [],
   "source": [
    "#Converte para numérico\n",
    "df['Preco_mensal']=pd.to_numeric(df['Preco_mensal'])\n",
    "df['Preco_total']=pd.to_numeric(df['Preco_total'], errors='coerce')"
   ]
  },
  {
   "cell_type": "code",
   "execution_count": 163,
   "metadata": {},
   "outputs": [],
   "source": [
    "#Removendo colunas que ão serão necessárias\n",
    "df.drop(['LoyaltyID', 'Customer ID'], axis=1, inplace=True)"
   ]
  },
  {
   "cell_type": "code",
   "execution_count": 164,
   "metadata": {},
   "outputs": [
    {
     "data": {
      "text/plain": [
       "Idoso                         object\n",
       "Possui_parceiro               object\n",
       "Possui_dependentes            object\n",
       "Meses_relacionamento           int64\n",
       "Possui_telefonia              object\n",
       "Multipla_linha_tel            object\n",
       "Provedor_internet             object\n",
       "Possui_seguranca_online       object\n",
       "Possui_backup_online          object\n",
       "Possui_seguro_dispositivo     object\n",
       "Usou_suporte_tecnico          object\n",
       "Assinatura_TV                 object\n",
       "Assinatura_Filmes             object\n",
       "Tipo_contrato                 object\n",
       "Fatura_digital                object\n",
       "Meio_pagamento                object\n",
       "Preco_mensal                 float64\n",
       "Preco_total                  float64\n",
       "Churn                         object\n",
       "Pais                          object\n",
       "Estado                        object\n",
       "Genero                        object\n",
       "Motivo do Churn               object\n",
       "CLTV                           int64\n",
       "dtype: object"
      ]
     },
     "execution_count": 164,
     "metadata": {},
     "output_type": "execute_result"
    }
   ],
   "source": [
    "df.dtypes"
   ]
  },
  {
   "cell_type": "markdown",
   "metadata": {},
   "source": [
    "<h3>Plots</h3><br/><h4>Visualização dos dados"
   ]
  },
  {
   "cell_type": "code",
   "execution_count": 46,
   "metadata": {},
   "outputs": [
    {
     "data": {
      "text/plain": [
       "<AxesSubplot:title={'center':'Histograma do tempo de relacionamento'}, ylabel='Frequency'>"
      ]
     },
     "execution_count": 46,
     "metadata": {},
     "output_type": "execute_result"
    },
    {
     "data": {
      "image/png": "[encoded data removed]",
      "text/plain": [
       "<Figure size 864x432 with 1 Axes>"
      ]
     },
     "metadata": {
      "needs_background": "light"
     },
     "output_type": "display_data"
    }
   ],
   "source": [
    "#Histograma do tempo de relacionamento\n",
    "plt.title('Histograma do tempo de relacionamento')\n",
    "df['Meses_relacionamento'].plot(kind='hist')"
   ]
  },
  {
   "cell_type": "code",
   "execution_count": 47,
   "metadata": {},
   "outputs": [
    {
     "data": {
      "image/png": "[encoded data removed]",
      "text/plain": [
       "<Figure size 360x360 with 1 Axes>"
      ]
     },
     "metadata": {},
     "output_type": "display_data"
    }
   ],
   "source": [
    "#% de Churns\n",
    "plt.title('% de Churns')\n",
    "df_plot = df.groupby(['Churn'])['Churn'].count()\n",
    "df_plot.plot.pie(y='Churn',figsize=(5, 5),autopct='%1.1f%%', startangle=90)\n",
    "plt.show()"
   ]
  },
  {
   "cell_type": "code",
   "execution_count": 48,
   "metadata": {},
   "outputs": [
    {
     "data": {
      "image/png": "[encoded data removed]",
      "text/plain": [
       "<Figure size 360x360 with 1 Axes>"
      ]
     },
     "metadata": {},
     "output_type": "display_data"
    }
   ],
   "source": [
    "#% de Multiplas linhas\n",
    "plt.title('% de Multiplas linhas')\n",
    "df_plot = df.groupby(['Multipla_linha_tel'])['Multipla_linha_tel'].count()\n",
    "df_plot.plot.pie(y='Multipla_linha_tel',figsize=(5, 5),autopct='%1.1f%%', startangle=90)\n",
    "plt.show()"
   ]
  },
  {
   "cell_type": "code",
   "execution_count": 49,
   "metadata": {},
   "outputs": [
    {
     "data": {
      "image/png": "[encoded data removed]",
      "text/plain": [
       "<Figure size 360x360 with 1 Axes>"
      ]
     },
     "metadata": {},
     "output_type": "display_data"
    }
   ],
   "source": [
    "#% do método de pagamento\n",
    "plt.title('% do método de pagamento')\n",
    "df_plot = df.groupby(['Meio_pagamento'])['Meio_pagamento'].count()\n",
    "df_plot.plot.pie(y='Meio_pagamento',figsize=(5, 5),autopct='%1.1f%%', startangle=90)\n",
    "plt.show()"
   ]
  },
  {
   "cell_type": "code",
   "execution_count": 50,
   "metadata": {},
   "outputs": [
    {
     "data": {
      "image/png": "[encoded data removed]",
      "text/plain": [
       "<Figure size 360x360 with 1 Axes>"
      ]
     },
     "metadata": {},
     "output_type": "display_data"
    }
   ],
   "source": [
    "#% dos pagamentos por fatura digital\n",
    "plt.title('% dos pagamentos por fatura digital')\n",
    "df_plot = df.groupby(['Fatura_digital'])['Fatura_digital'].count()\n",
    "df_plot.plot.pie(y='Fatura_digital',figsize=(5, 5),autopct='%1.1f%%', startangle=90)\n",
    "plt.show()"
   ]
  },
  {
   "cell_type": "code",
   "execution_count": 54,
   "metadata": {},
   "outputs": [
    {
     "data": {
      "image/png": "[encoded data removed]",
      "text/plain": [
       "<Figure size 360x360 with 1 Axes>"
      ]
     },
     "metadata": {},
     "output_type": "display_data"
    }
   ],
   "source": [
    "#% de Churn por Genero\n",
    "plt.title('% de Churn por Genero')\n",
    "df_plot = df.groupby(['Genero','Churn'])['Genero'].count()\n",
    "df_plot.plot.pie(y='Genero',figsize=(5, 5),autopct='%1.1f%%', startangle=90)\n",
    "plt.show()"
   ]
  },
  {
   "cell_type": "markdown",
   "metadata": {},
   "source": [
    "<h3>Utilizando Kaplan-Meier</h3><br/><h4>Estimando a probabilidade de sobrevivência de relacionamento ao longo do tempo"
   ]
  },
  {
   "cell_type": "code",
   "execution_count": 170,
   "metadata": {},
   "outputs": [
    {
     "name": "stderr",
     "output_type": "stream",
     "text": [
      "C:\\Users\\gabri\\anaconda3\\lib\\site-packages\\lifelines\\utils\\__init__.py:1181: UserWarning: Attempting to convert an unexpected datatype 'object' to float. Suggestion: 1) use `lifelines.utils.datetimes_to_durations` to do conversions or 2) manually convert to floats/booleans.\n",
      "  warnings.warn(warning_text, UserWarning)\n"
     ]
    },
    {
     "data": {
      "text/plain": [
       "Text(0.5, 1.0, 'Curva de sobrevivência utilizando Kaplan-Meier')"
      ]
     },
     "execution_count": 170,
     "metadata": {},
     "output_type": "execute_result"
    },
    {
     "data": {
      "image/png": "[encoded data removed]",
      "text/plain": [
       "<Figure size 864x432 with 1 Axes>"
      ]
     },
     "metadata": {
      "needs_background": "light"
     },
     "output_type": "display_data"
    }
   ],
   "source": [
    "tempo = df['Meses_relacionamento']\n",
    "target = df['Churn']\n",
    "\n",
    "kmf = KaplanMeierFitter() ## instantiate the class to create an object\n",
    "kmf.fit(tempo, target,label='Estimador de Kaplan-Meier (propa. de sobrevivência de relac.)')\n",
    "\n",
    "ax = kmf.plot(linestyle=\"--\",color='red')\n",
    "ax.set_xlabel(\"tempo (em meses)\")\n",
    "ax.set_ylabel(\"% Probabilidade de sobrevivência\")\n",
    "ax.set_title('Curva de sobrevivência utilizando Kaplan-Meier')\n"
   ]
  },
  {
   "cell_type": "markdown",
   "metadata": {},
   "source": [
    "<h3>Utilizando Regressão de Cox</h3><br/><h4>Para identificação dos principais ofensores para o relacionamento"
   ]
  },
  {
   "cell_type": "code",
   "execution_count": 157,
   "metadata": {},
   "outputs": [
    {
     "data": {
      "text/html": [
       "<div>\n",
       "<style scoped>\n",
       "    .dataframe tbody tr th:only-of-type {\n",
       "        vertical-align: middle;\n",
       "    }\n",
       "\n",
       "    .dataframe tbody tr th {\n",
       "        vertical-align: top;\n",
       "    }\n",
       "\n",
       "    .dataframe thead th {\n",
       "        text-align: right;\n",
       "    }\n",
       "</style>\n",
       "<table border=\"1\" class=\"dataframe\">\n",
       "  <thead>\n",
       "    <tr style=\"text-align: right;\">\n",
       "      <th></th>\n",
       "      <th>Meses_relacionamento</th>\n",
       "      <th>Preco_mensal</th>\n",
       "      <th>Churn_1</th>\n",
       "      <th>Genero_Male</th>\n",
       "      <th>Possui_telefonia_Yes</th>\n",
       "      <th>Assinatura_TV_No internet service</th>\n",
       "      <th>Assinatura_TV_Yes</th>\n",
       "      <th>Idoso_1</th>\n",
       "      <th>Possui_parceiro_Yes</th>\n",
       "      <th>Possui_dependentes_Yes</th>\n",
       "      <th>Meio_pagamento_Credit card (automatic)</th>\n",
       "      <th>Meio_pagamento_Electronic check</th>\n",
       "      <th>Meio_pagamento_Mailed check</th>\n",
       "    </tr>\n",
       "  </thead>\n",
       "  <tbody>\n",
       "    <tr>\n",
       "      <th>0</th>\n",
       "      <td>1</td>\n",
       "      <td>29.85</td>\n",
       "      <td>0</td>\n",
       "      <td>0</td>\n",
       "      <td>0</td>\n",
       "      <td>0</td>\n",
       "      <td>0</td>\n",
       "      <td>0</td>\n",
       "      <td>1</td>\n",
       "      <td>0</td>\n",
       "      <td>0</td>\n",
       "      <td>1</td>\n",
       "      <td>0</td>\n",
       "    </tr>\n",
       "    <tr>\n",
       "      <th>1</th>\n",
       "      <td>34</td>\n",
       "      <td>56.95</td>\n",
       "      <td>0</td>\n",
       "      <td>1</td>\n",
       "      <td>1</td>\n",
       "      <td>0</td>\n",
       "      <td>0</td>\n",
       "      <td>0</td>\n",
       "      <td>0</td>\n",
       "      <td>0</td>\n",
       "      <td>0</td>\n",
       "      <td>0</td>\n",
       "      <td>1</td>\n",
       "    </tr>\n",
       "    <tr>\n",
       "      <th>2</th>\n",
       "      <td>2</td>\n",
       "      <td>53.85</td>\n",
       "      <td>1</td>\n",
       "      <td>1</td>\n",
       "      <td>1</td>\n",
       "      <td>0</td>\n",
       "      <td>0</td>\n",
       "      <td>0</td>\n",
       "      <td>0</td>\n",
       "      <td>0</td>\n",
       "      <td>0</td>\n",
       "      <td>0</td>\n",
       "      <td>1</td>\n",
       "    </tr>\n",
       "    <tr>\n",
       "      <th>3</th>\n",
       "      <td>45</td>\n",
       "      <td>42.30</td>\n",
       "      <td>0</td>\n",
       "      <td>1</td>\n",
       "      <td>0</td>\n",
       "      <td>0</td>\n",
       "      <td>0</td>\n",
       "      <td>0</td>\n",
       "      <td>0</td>\n",
       "      <td>0</td>\n",
       "      <td>0</td>\n",
       "      <td>0</td>\n",
       "      <td>0</td>\n",
       "    </tr>\n",
       "    <tr>\n",
       "      <th>4</th>\n",
       "      <td>2</td>\n",
       "      <td>70.70</td>\n",
       "      <td>1</td>\n",
       "      <td>0</td>\n",
       "      <td>1</td>\n",
       "      <td>0</td>\n",
       "      <td>0</td>\n",
       "      <td>0</td>\n",
       "      <td>0</td>\n",
       "      <td>0</td>\n",
       "      <td>0</td>\n",
       "      <td>1</td>\n",
       "      <td>0</td>\n",
       "    </tr>\n",
       "  </tbody>\n",
       "</table>\n",
       "</div>"
      ],
      "text/plain": [
       "   Meses_relacionamento  Preco_mensal  Churn_1  Genero_Male  \\\n",
       "0                     1         29.85        0            0   \n",
       "1                    34         56.95        0            1   \n",
       "2                     2         53.85        1            1   \n",
       "3                    45         42.30        0            1   \n",
       "4                     2         70.70        1            0   \n",
       "\n",
       "   Possui_telefonia_Yes  Assinatura_TV_No internet service  Assinatura_TV_Yes  \\\n",
       "0                     0                                  0                  0   \n",
       "1                     1                                  0                  0   \n",
       "2                     1                                  0                  0   \n",
       "3                     0                                  0                  0   \n",
       "4                     1                                  0                  0   \n",
       "\n",
       "   Idoso_1  Possui_parceiro_Yes  Possui_dependentes_Yes  \\\n",
       "0        0                    1                       0   \n",
       "1        0                    0                       0   \n",
       "2        0                    0                       0   \n",
       "3        0                    0                       0   \n",
       "4        0                    0                       0   \n",
       "\n",
       "   Meio_pagamento_Credit card (automatic)  Meio_pagamento_Electronic check  \\\n",
       "0                                       0                                1   \n",
       "1                                       0                                0   \n",
       "2                                       0                                0   \n",
       "3                                       0                                0   \n",
       "4                                       0                                1   \n",
       "\n",
       "   Meio_pagamento_Mailed check  \n",
       "0                            0  \n",
       "1                            1  \n",
       "2                            1  \n",
       "3                            0  \n",
       "4                            0  "
      ]
     },
     "execution_count": 157,
     "metadata": {},
     "output_type": "execute_result"
    }
   ],
   "source": [
    "df_= df.loc[:,['Meses_relacionamento','Churn','Genero','Possui_telefonia',\n",
    "               'Assinatura_TV','Idoso','Possui_parceiro',\n",
    "               'Possui_dependentes','Preco_mensal', 'Meio_pagamento']]\n",
    "\n",
    "df_binario = pd.get_dummies(df_, drop_first=True)\n",
    "df_binario.head()"
   ]
  },
  {
   "cell_type": "code",
   "execution_count": 159,
   "metadata": {},
   "outputs": [
    {
     "name": "stdout",
     "output_type": "stream",
     "text": [
      "\r",
      "Iteration 1: norm_delta = 1.19190, step_size = 0.9000, log_lik = -15653.03964, newton_decrement = 773.62034, seconds_since_start = 0.0\n",
      "\r",
      "Iteration 2: norm_delta = 0.22906, step_size = 0.9000, log_lik = -14918.51760, newton_decrement = 25.93903, seconds_since_start = 0.0\n",
      "\r",
      "Iteration 3: norm_delta = 0.04399, step_size = 0.9000, log_lik = -14892.26309, newton_decrement = 0.83311, seconds_since_start = 0.0\n",
      "\r",
      "Iteration 4: norm_delta = 0.00226, step_size = 1.0000, log_lik = -14891.40788, newton_decrement = 0.00162, seconds_since_start = 0.0\n",
      "\r",
      "Iteration 5: norm_delta = 0.00001, step_size = 1.0000, log_lik = -14891.40626, newton_decrement = 0.00000, seconds_since_start = 0.0\n",
      "Convergence success after 5 iterations.\n"
     ]
    },
    {
     "data": {
      "text/html": [
       "<div>\n",
       "<style scoped>\n",
       "    .dataframe tbody tr th:only-of-type {\n",
       "        vertical-align: middle;\n",
       "    }\n",
       "\n",
       "    .dataframe tbody tr th {\n",
       "        vertical-align: top;\n",
       "    }\n",
       "\n",
       "    .dataframe thead th {\n",
       "        text-align: right;\n",
       "    }\n",
       "</style>\n",
       "<table border=\"1\" class=\"dataframe\">\n",
       "  <tbody>\n",
       "    <tr>\n",
       "      <th>model</th>\n",
       "      <td>lifelines.CoxPHFitter</td>\n",
       "    </tr>\n",
       "    <tr>\n",
       "      <th>duration col</th>\n",
       "      <td>'Meses_relacionamento'</td>\n",
       "    </tr>\n",
       "    <tr>\n",
       "      <th>event col</th>\n",
       "      <td>'Churn_1'</td>\n",
       "    </tr>\n",
       "    <tr>\n",
       "      <th>baseline estimation</th>\n",
       "      <td>breslow</td>\n",
       "    </tr>\n",
       "    <tr>\n",
       "      <th>number of observations</th>\n",
       "      <td>7043</td>\n",
       "    </tr>\n",
       "    <tr>\n",
       "      <th>number of events observed</th>\n",
       "      <td>1869</td>\n",
       "    </tr>\n",
       "    <tr>\n",
       "      <th>partial log-likelihood</th>\n",
       "      <td>-14891.41</td>\n",
       "    </tr>\n",
       "    <tr>\n",
       "      <th>time fit was run</th>\n",
       "      <td>2021-11-21 19:26:09 UTC</td>\n",
       "    </tr>\n",
       "  </tbody>\n",
       "</table>\n",
       "</div><table border=\"1\" class=\"dataframe\">\n",
       "  <thead>\n",
       "    <tr style=\"text-align: right;\">\n",
       "      <th style=\"min-width: 12px;\"></th>\n",
       "      <th style=\"min-width: 12px;\">coef</th>\n",
       "      <th style=\"min-width: 12px;\">exp(coef)</th>\n",
       "      <th style=\"min-width: 12px;\">se(coef)</th>\n",
       "      <th style=\"min-width: 12px;\">coef lower 95%</th>\n",
       "      <th style=\"min-width: 12px;\">coef upper 95%</th>\n",
       "      <th style=\"min-width: 12px;\">exp(coef) lower 95%</th>\n",
       "      <th style=\"min-width: 12px;\">exp(coef) upper 95%</th>\n",
       "      <th style=\"min-width: 12px;\">z</th>\n",
       "      <th style=\"min-width: 12px;\">p</th>\n",
       "      <th style=\"min-width: 12px;\">-log2(p)</th>\n",
       "    </tr>\n",
       "  </thead>\n",
       "  <tbody>\n",
       "    <tr>\n",
       "      <th>Preco_mensal</th>\n",
       "      <td>-0.01</td>\n",
       "      <td>0.99</td>\n",
       "      <td>0.00</td>\n",
       "      <td>-0.02</td>\n",
       "      <td>-0.01</td>\n",
       "      <td>0.98</td>\n",
       "      <td>0.99</td>\n",
       "      <td>-7.03</td>\n",
       "      <td>&lt;0.005</td>\n",
       "      <td>38.79</td>\n",
       "    </tr>\n",
       "    <tr>\n",
       "      <th>Genero_Male</th>\n",
       "      <td>-0.02</td>\n",
       "      <td>0.98</td>\n",
       "      <td>0.05</td>\n",
       "      <td>-0.11</td>\n",
       "      <td>0.07</td>\n",
       "      <td>0.89</td>\n",
       "      <td>1.07</td>\n",
       "      <td>-0.50</td>\n",
       "      <td>0.62</td>\n",
       "      <td>0.70</td>\n",
       "    </tr>\n",
       "    <tr>\n",
       "      <th>Possui_telefonia_Yes</th>\n",
       "      <td>0.74</td>\n",
       "      <td>2.11</td>\n",
       "      <td>0.11</td>\n",
       "      <td>0.54</td>\n",
       "      <td>0.95</td>\n",
       "      <td>1.71</td>\n",
       "      <td>2.59</td>\n",
       "      <td>7.00</td>\n",
       "      <td>&lt;0.005</td>\n",
       "      <td>38.54</td>\n",
       "    </tr>\n",
       "    <tr>\n",
       "      <th>Assinatura_TV_No internet service</th>\n",
       "      <td>-2.01</td>\n",
       "      <td>0.13</td>\n",
       "      <td>0.13</td>\n",
       "      <td>-2.27</td>\n",
       "      <td>-1.75</td>\n",
       "      <td>0.10</td>\n",
       "      <td>0.17</td>\n",
       "      <td>-14.96</td>\n",
       "      <td>&lt;0.005</td>\n",
       "      <td>165.60</td>\n",
       "    </tr>\n",
       "    <tr>\n",
       "      <th>Assinatura_TV_Yes</th>\n",
       "      <td>-0.19</td>\n",
       "      <td>0.83</td>\n",
       "      <td>0.06</td>\n",
       "      <td>-0.31</td>\n",
       "      <td>-0.07</td>\n",
       "      <td>0.73</td>\n",
       "      <td>0.93</td>\n",
       "      <td>-3.06</td>\n",
       "      <td>&lt;0.005</td>\n",
       "      <td>8.81</td>\n",
       "    </tr>\n",
       "    <tr>\n",
       "      <th>Idoso_1</th>\n",
       "      <td>0.29</td>\n",
       "      <td>1.34</td>\n",
       "      <td>0.06</td>\n",
       "      <td>0.18</td>\n",
       "      <td>0.40</td>\n",
       "      <td>1.20</td>\n",
       "      <td>1.49</td>\n",
       "      <td>5.25</td>\n",
       "      <td>&lt;0.005</td>\n",
       "      <td>22.67</td>\n",
       "    </tr>\n",
       "    <tr>\n",
       "      <th>Possui_parceiro_Yes</th>\n",
       "      <td>-0.73</td>\n",
       "      <td>0.48</td>\n",
       "      <td>0.05</td>\n",
       "      <td>-0.84</td>\n",
       "      <td>-0.63</td>\n",
       "      <td>0.43</td>\n",
       "      <td>0.53</td>\n",
       "      <td>-13.48</td>\n",
       "      <td>&lt;0.005</td>\n",
       "      <td>135.17</td>\n",
       "    </tr>\n",
       "    <tr>\n",
       "      <th>Possui_dependentes_Yes</th>\n",
       "      <td>-0.29</td>\n",
       "      <td>0.75</td>\n",
       "      <td>0.07</td>\n",
       "      <td>-0.43</td>\n",
       "      <td>-0.16</td>\n",
       "      <td>0.65</td>\n",
       "      <td>0.85</td>\n",
       "      <td>-4.29</td>\n",
       "      <td>&lt;0.005</td>\n",
       "      <td>15.79</td>\n",
       "    </tr>\n",
       "    <tr>\n",
       "      <th>Meio_pagamento_Credit card (automatic)</th>\n",
       "      <td>-0.09</td>\n",
       "      <td>0.91</td>\n",
       "      <td>0.09</td>\n",
       "      <td>-0.27</td>\n",
       "      <td>0.08</td>\n",
       "      <td>0.76</td>\n",
       "      <td>1.09</td>\n",
       "      <td>-1.03</td>\n",
       "      <td>0.30</td>\n",
       "      <td>1.72</td>\n",
       "    </tr>\n",
       "    <tr>\n",
       "      <th>Meio_pagamento_Electronic check</th>\n",
       "      <td>1.25</td>\n",
       "      <td>3.50</td>\n",
       "      <td>0.07</td>\n",
       "      <td>1.11</td>\n",
       "      <td>1.39</td>\n",
       "      <td>3.04</td>\n",
       "      <td>4.02</td>\n",
       "      <td>17.65</td>\n",
       "      <td>&lt;0.005</td>\n",
       "      <td>229.21</td>\n",
       "    </tr>\n",
       "    <tr>\n",
       "      <th>Meio_pagamento_Mailed check</th>\n",
       "      <td>0.72</td>\n",
       "      <td>2.06</td>\n",
       "      <td>0.09</td>\n",
       "      <td>0.55</td>\n",
       "      <td>0.89</td>\n",
       "      <td>1.73</td>\n",
       "      <td>2.44</td>\n",
       "      <td>8.27</td>\n",
       "      <td>&lt;0.005</td>\n",
       "      <td>52.73</td>\n",
       "    </tr>\n",
       "  </tbody>\n",
       "</table><br><div>\n",
       "<style scoped>\n",
       "    .dataframe tbody tr th:only-of-type {\n",
       "        vertical-align: middle;\n",
       "    }\n",
       "\n",
       "    .dataframe tbody tr th {\n",
       "        vertical-align: top;\n",
       "    }\n",
       "\n",
       "    .dataframe thead th {\n",
       "        text-align: right;\n",
       "    }\n",
       "</style>\n",
       "<table border=\"1\" class=\"dataframe\">\n",
       "  <tbody>\n",
       "    <tr>\n",
       "      <th>Concordance</th>\n",
       "      <td>0.76</td>\n",
       "    </tr>\n",
       "    <tr>\n",
       "      <th>Partial AIC</th>\n",
       "      <td>29804.81</td>\n",
       "    </tr>\n",
       "    <tr>\n",
       "      <th>log-likelihood ratio test</th>\n",
       "      <td>1523.27 on 11 df</td>\n",
       "    </tr>\n",
       "    <tr>\n",
       "      <th>-log2(p) of ll-ratio test</th>\n",
       "      <td>inf</td>\n",
       "    </tr>\n",
       "  </tbody>\n",
       "</table>\n",
       "</div>"
      ],
      "text/latex": [
       "\\begin{tabular}{lrrrrrrrrrr}\n",
       "\\toprule\n",
       "{} &  coef &  exp(coef) &  se(coef) &  coef lower 95\\% &  coef upper 95\\% &  exp(coef) lower 95\\% &  exp(coef) upper 95\\% &      z &    p &  -log2(p) \\\\\n",
       "covariate                              &       &            &           &                 &                 &                      &                      &        &      &           \\\\\n",
       "\\midrule\n",
       "Preco\\_mensal                           & -0.01 &       0.99 &      0.00 &           -0.02 &           -0.01 &                 0.98 &                 0.99 &  -7.03 & 0.00 &     38.79 \\\\\n",
       "Genero\\_Male                            & -0.02 &       0.98 &      0.05 &           -0.11 &            0.07 &                 0.89 &                 1.07 &  -0.50 & 0.62 &      0.70 \\\\\n",
       "Possui\\_telefonia\\_Yes                   &  0.74 &       2.11 &      0.11 &            0.54 &            0.95 &                 1.71 &                 2.59 &   7.00 & 0.00 &     38.54 \\\\\n",
       "Assinatura\\_TV\\_No internet service      & -2.01 &       0.13 &      0.13 &           -2.27 &           -1.75 &                 0.10 &                 0.17 & -14.96 & 0.00 &    165.60 \\\\\n",
       "Assinatura\\_TV\\_Yes                      & -0.19 &       0.83 &      0.06 &           -0.31 &           -0.07 &                 0.73 &                 0.93 &  -3.06 & 0.00 &      8.81 \\\\\n",
       "Idoso\\_1                                &  0.29 &       1.34 &      0.06 &            0.18 &            0.40 &                 1.20 &                 1.49 &   5.25 & 0.00 &     22.67 \\\\\n",
       "Possui\\_parceiro\\_Yes                    & -0.73 &       0.48 &      0.05 &           -0.84 &           -0.63 &                 0.43 &                 0.53 & -13.48 & 0.00 &    135.17 \\\\\n",
       "Possui\\_dependentes\\_Yes                 & -0.29 &       0.75 &      0.07 &           -0.43 &           -0.16 &                 0.65 &                 0.85 &  -4.29 & 0.00 &     15.79 \\\\\n",
       "Meio\\_pagamento\\_Credit card (automatic) & -0.09 &       0.91 &      0.09 &           -0.27 &            0.08 &                 0.76 &                 1.09 &  -1.03 & 0.30 &      1.72 \\\\\n",
       "Meio\\_pagamento\\_Electronic check        &  1.25 &       3.50 &      0.07 &            1.11 &            1.39 &                 3.04 &                 4.02 &  17.65 & 0.00 &    229.21 \\\\\n",
       "Meio\\_pagamento\\_Mailed check            &  0.72 &       2.06 &      0.09 &            0.55 &            0.89 &                 1.73 &                 2.44 &   8.27 & 0.00 &     52.73 \\\\\n",
       "\\bottomrule\n",
       "\\end{tabular}\n"
      ],
      "text/plain": [
       "<lifelines.CoxPHFitter: fitted with 7043 total observations, 5174 right-censored observations>\n",
       "             duration col = 'Meses_relacionamento'\n",
       "                event col = 'Churn_1'\n",
       "      baseline estimation = breslow\n",
       "   number of observations = 7043\n",
       "number of events observed = 1869\n",
       "   partial log-likelihood = -14891.41\n",
       "         time fit was run = 2021-11-21 19:26:09 UTC\n",
       "\n",
       "---\n",
       "                                         coef  exp(coef)   se(coef)   coef lower 95%   coef upper 95%  exp(coef) lower 95%  exp(coef) upper 95%\n",
       "covariate                                                                                                                                      \n",
       "Preco_mensal                            -0.01       0.99       0.00            -0.02            -0.01                 0.98                 0.99\n",
       "Genero_Male                             -0.02       0.98       0.05            -0.11             0.07                 0.89                 1.07\n",
       "Possui_telefonia_Yes                     0.74       2.11       0.11             0.54             0.95                 1.71                 2.59\n",
       "Assinatura_TV_No internet service       -2.01       0.13       0.13            -2.27            -1.75                 0.10                 0.17\n",
       "Assinatura_TV_Yes                       -0.19       0.83       0.06            -0.31            -0.07                 0.73                 0.93\n",
       "Idoso_1                                  0.29       1.34       0.06             0.18             0.40                 1.20                 1.49\n",
       "Possui_parceiro_Yes                     -0.73       0.48       0.05            -0.84            -0.63                 0.43                 0.53\n",
       "Possui_dependentes_Yes                  -0.29       0.75       0.07            -0.43            -0.16                 0.65                 0.85\n",
       "Meio_pagamento_Credit card (automatic)  -0.09       0.91       0.09            -0.27             0.08                 0.76                 1.09\n",
       "Meio_pagamento_Electronic check          1.25       3.50       0.07             1.11             1.39                 3.04                 4.02\n",
       "Meio_pagamento_Mailed check              0.72       2.06       0.09             0.55             0.89                 1.73                 2.44\n",
       "\n",
       "                                            z      p   -log2(p)\n",
       "covariate                                                      \n",
       "Preco_mensal                            -7.03 <0.005      38.79\n",
       "Genero_Male                             -0.50   0.62       0.70\n",
       "Possui_telefonia_Yes                     7.00 <0.005      38.54\n",
       "Assinatura_TV_No internet service      -14.96 <0.005     165.60\n",
       "Assinatura_TV_Yes                       -3.06 <0.005       8.81\n",
       "Idoso_1                                  5.25 <0.005      22.67\n",
       "Possui_parceiro_Yes                    -13.48 <0.005     135.17\n",
       "Possui_dependentes_Yes                  -4.29 <0.005      15.79\n",
       "Meio_pagamento_Credit card (automatic)  -1.03   0.30       1.72\n",
       "Meio_pagamento_Electronic check         17.65 <0.005     229.21\n",
       "Meio_pagamento_Mailed check              8.27 <0.005      52.73\n",
       "---\n",
       "Concordance = 0.76\n",
       "Partial AIC = 29804.81\n",
       "log-likelihood ratio test = 1523.27 on 11 df\n",
       "-log2(p) of ll-ratio test = inf"
      ]
     },
     "metadata": {},
     "output_type": "display_data"
    }
   ],
   "source": [
    "cphf = CoxPHFitter()\n",
    "cphf.fit(df_binario, duration_col='Meses_relacionamento', event_col='Churn_1', show_progress=True)\n",
    "cphf.print_summary()"
   ]
  },
  {
   "cell_type": "code",
   "execution_count": 168,
   "metadata": {},
   "outputs": [
    {
     "data": {
      "text/plain": [
       "<AxesSubplot:xlabel='log(HR) (95% CI)'>"
      ]
     },
     "execution_count": 168,
     "metadata": {},
     "output_type": "execute_result"
    },
    {
     "data": {
      "image/png": "[encoded data removed]",
      "text/plain": [
       "<Figure size 864x432 with 1 Axes>"
      ]
     },
     "metadata": {
      "needs_background": "light"
     },
     "output_type": "display_data"
    }
   ],
   "source": [
    "ax.set_title('Coeficientes e intervalos de confiança')\n",
    "cphf.plot()"
   ]
  },
  {
   "cell_type": "code",
   "execution_count": null,
   "metadata": {},
   "outputs": [],
   "source": []
  }
 ],
 "metadata": {
  "kernelspec": {
   "display_name": "Python 3",
   "language": "python",
   "name": "python3"
  },
  "language_info": {
   "codemirror_mode": {
    "name": "ipython",
    "version": 3
   },
   "file_extension": ".py",
   "mimetype": "text/x-python",
   "name": "python",
   "nbconvert_exporter": "python",
   "pygments_lexer": "ipython3",
   "version": "3.8.5"
  }
 },
 "nbformat": 4,
 "nbformat_minor": 4
}
