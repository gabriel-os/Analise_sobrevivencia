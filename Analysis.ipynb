{
 "cells": [
  {
   "cell_type": "code",
   "execution_count": null,
   "metadata": {
    "scrolled": true
   },
   "outputs": [],
   "source": [
    "#Instalando módulo necessária para a análise\n",
    "!pip install lifelines==0.26.3"
   ]
  },
  {
   "cell_type": "code",
   "execution_count": 1,
   "metadata": {},
   "outputs": [],
   "source": [
    "#Importando módulos para a análise\n",
    "import pandas as pd\n",
    "import numpy as np\n",
    "import matplotlib.pyplot as plt\n",
    "import seaborn as sb\n",
    "from lifelines.plotting import plot_lifetimes\n",
    "from lifelines import KaplanMeierFitter\n",
    "from lifelines import CoxPHFitter"
   ]
  },
  {
   "cell_type": "code",
   "execution_count": 2,
   "metadata": {},
   "outputs": [
    {
     "name": "stdout",
     "output_type": "stream",
     "text": [
      "Populating the interactive namespace from numpy and matplotlib\n"
     ]
    }
   ],
   "source": [
    "#Configurações para as plotagens\n",
    "%pylab inline\n",
    "figsize(12,6)"
   ]
  },
  {
   "cell_type": "code",
   "execution_count": 3,
   "metadata": {},
   "outputs": [],
   "source": [
    "#Configurações do dataframe\n",
    "\n",
    "#Removendo limite máximo de colunas para vizualização\n",
    "pd.options.display.max_columns = None"
   ]
  },
  {
   "cell_type": "code",
   "execution_count": 36,
   "metadata": {},
   "outputs": [],
   "source": [
    "#Importando o dataset\n",
    "df_info_assinatura = pd.read_csv('Data/CustomerChurn.csv', sep=';')\n",
    "df_info_cons = pd.read_csv('Data/CustomerChurnInfos.csv', sep=';')"
   ]
  },
  {
   "cell_type": "code",
   "execution_count": 39,
   "metadata": {},
   "outputs": [],
   "source": [
    "#Fazendo o cruzamento das informações\n",
    "df = pd.merge(df_info_assinatura, df_info_cons[['Customer ID','Country','State', 'Gender', 'Churn Reason', 'CLTV']], how=\"left\", on=[\"Customer ID\"])"
   ]
  },
  {
   "cell_type": "code",
   "execution_count": 40,
   "metadata": {},
   "outputs": [
    {
     "data": {
      "text/html": [
       "<div>\n",
       "<style scoped>\n",
       "    .dataframe tbody tr th:only-of-type {\n",
       "        vertical-align: middle;\n",
       "    }\n",
       "\n",
       "    .dataframe tbody tr th {\n",
       "        vertical-align: top;\n",
       "    }\n",
       "\n",
       "    .dataframe thead th {\n",
       "        text-align: right;\n",
       "    }\n",
       "</style>\n",
       "<table border=\"1\" class=\"dataframe\">\n",
       "  <thead>\n",
       "    <tr style=\"text-align: right;\">\n",
       "      <th></th>\n",
       "      <th>LoyaltyID</th>\n",
       "      <th>Customer ID</th>\n",
       "      <th>Senior Citizen</th>\n",
       "      <th>Partner</th>\n",
       "      <th>Dependents</th>\n",
       "      <th>Tenure</th>\n",
       "      <th>Phone Service</th>\n",
       "      <th>Multiple Lines</th>\n",
       "      <th>Internet Service</th>\n",
       "      <th>Online Security</th>\n",
       "      <th>Online Backup</th>\n",
       "      <th>Device Protection</th>\n",
       "      <th>Tech Support</th>\n",
       "      <th>Streaming TV</th>\n",
       "      <th>Streaming Movies</th>\n",
       "      <th>Contract</th>\n",
       "      <th>Paperless Billing</th>\n",
       "      <th>Payment Method</th>\n",
       "      <th>Monthly Charges</th>\n",
       "      <th>Total Charges</th>\n",
       "      <th>Churn</th>\n",
       "      <th>Country</th>\n",
       "      <th>State</th>\n",
       "      <th>Gender</th>\n",
       "      <th>Churn Reason</th>\n",
       "      <th>CLTV</th>\n",
       "    </tr>\n",
       "  </thead>\n",
       "  <tbody>\n",
       "    <tr>\n",
       "      <th>0</th>\n",
       "      <td>318537</td>\n",
       "      <td>7590-VHVEG</td>\n",
       "      <td>No</td>\n",
       "      <td>Yes</td>\n",
       "      <td>No</td>\n",
       "      <td>1</td>\n",
       "      <td>No</td>\n",
       "      <td>No phone service</td>\n",
       "      <td>DSL</td>\n",
       "      <td>No</td>\n",
       "      <td>Yes</td>\n",
       "      <td>No</td>\n",
       "      <td>No</td>\n",
       "      <td>No</td>\n",
       "      <td>No</td>\n",
       "      <td>Month-to-month</td>\n",
       "      <td>Yes</td>\n",
       "      <td>Electronic check</td>\n",
       "      <td>29,85</td>\n",
       "      <td>29,85</td>\n",
       "      <td>No</td>\n",
       "      <td>United States</td>\n",
       "      <td>California</td>\n",
       "      <td>Female</td>\n",
       "      <td>NaN</td>\n",
       "      <td>3964</td>\n",
       "    </tr>\n",
       "    <tr>\n",
       "      <th>1</th>\n",
       "      <td>152148</td>\n",
       "      <td>5575-GNVDE</td>\n",
       "      <td>No</td>\n",
       "      <td>No</td>\n",
       "      <td>No</td>\n",
       "      <td>34</td>\n",
       "      <td>Yes</td>\n",
       "      <td>No</td>\n",
       "      <td>DSL</td>\n",
       "      <td>Yes</td>\n",
       "      <td>No</td>\n",
       "      <td>Yes</td>\n",
       "      <td>No</td>\n",
       "      <td>No</td>\n",
       "      <td>No</td>\n",
       "      <td>One year</td>\n",
       "      <td>No</td>\n",
       "      <td>Mailed check</td>\n",
       "      <td>56,95</td>\n",
       "      <td>1889,5</td>\n",
       "      <td>No</td>\n",
       "      <td>United States</td>\n",
       "      <td>California</td>\n",
       "      <td>Male</td>\n",
       "      <td>NaN</td>\n",
       "      <td>3441</td>\n",
       "    </tr>\n",
       "    <tr>\n",
       "      <th>2</th>\n",
       "      <td>326527</td>\n",
       "      <td>3668-QPYBK</td>\n",
       "      <td>No</td>\n",
       "      <td>No</td>\n",
       "      <td>No</td>\n",
       "      <td>2</td>\n",
       "      <td>Yes</td>\n",
       "      <td>No</td>\n",
       "      <td>DSL</td>\n",
       "      <td>Yes</td>\n",
       "      <td>Yes</td>\n",
       "      <td>No</td>\n",
       "      <td>No</td>\n",
       "      <td>No</td>\n",
       "      <td>No</td>\n",
       "      <td>Month-to-month</td>\n",
       "      <td>Yes</td>\n",
       "      <td>Mailed check</td>\n",
       "      <td>53,85</td>\n",
       "      <td>108,15</td>\n",
       "      <td>Yes</td>\n",
       "      <td>United States</td>\n",
       "      <td>California</td>\n",
       "      <td>Male</td>\n",
       "      <td>Competitor made better offer</td>\n",
       "      <td>3239</td>\n",
       "    </tr>\n",
       "    <tr>\n",
       "      <th>3</th>\n",
       "      <td>845894</td>\n",
       "      <td>7795-CFOCW</td>\n",
       "      <td>No</td>\n",
       "      <td>No</td>\n",
       "      <td>No</td>\n",
       "      <td>45</td>\n",
       "      <td>No</td>\n",
       "      <td>No phone service</td>\n",
       "      <td>DSL</td>\n",
       "      <td>Yes</td>\n",
       "      <td>No</td>\n",
       "      <td>Yes</td>\n",
       "      <td>Yes</td>\n",
       "      <td>No</td>\n",
       "      <td>No</td>\n",
       "      <td>One year</td>\n",
       "      <td>No</td>\n",
       "      <td>Bank transfer (automatic)</td>\n",
       "      <td>42,3</td>\n",
       "      <td>1840,75</td>\n",
       "      <td>No</td>\n",
       "      <td>United States</td>\n",
       "      <td>California</td>\n",
       "      <td>Male</td>\n",
       "      <td>NaN</td>\n",
       "      <td>4307</td>\n",
       "    </tr>\n",
       "    <tr>\n",
       "      <th>4</th>\n",
       "      <td>503388</td>\n",
       "      <td>9237-HQITU</td>\n",
       "      <td>No</td>\n",
       "      <td>No</td>\n",
       "      <td>No</td>\n",
       "      <td>2</td>\n",
       "      <td>Yes</td>\n",
       "      <td>No</td>\n",
       "      <td>Fiber optic</td>\n",
       "      <td>No</td>\n",
       "      <td>No</td>\n",
       "      <td>No</td>\n",
       "      <td>No</td>\n",
       "      <td>No</td>\n",
       "      <td>No</td>\n",
       "      <td>Month-to-month</td>\n",
       "      <td>Yes</td>\n",
       "      <td>Electronic check</td>\n",
       "      <td>70,7</td>\n",
       "      <td>151,65</td>\n",
       "      <td>Yes</td>\n",
       "      <td>United States</td>\n",
       "      <td>California</td>\n",
       "      <td>Female</td>\n",
       "      <td>Moved</td>\n",
       "      <td>2701</td>\n",
       "    </tr>\n",
       "  </tbody>\n",
       "</table>\n",
       "</div>"
      ],
      "text/plain": [
       "   LoyaltyID Customer ID Senior Citizen Partner Dependents  Tenure  \\\n",
       "0     318537  7590-VHVEG             No     Yes         No       1   \n",
       "1     152148  5575-GNVDE             No      No         No      34   \n",
       "2     326527  3668-QPYBK             No      No         No       2   \n",
       "3     845894  7795-CFOCW             No      No         No      45   \n",
       "4     503388  9237-HQITU             No      No         No       2   \n",
       "\n",
       "  Phone Service    Multiple Lines Internet Service Online Security  \\\n",
       "0            No  No phone service              DSL              No   \n",
       "1           Yes                No              DSL             Yes   \n",
       "2           Yes                No              DSL             Yes   \n",
       "3            No  No phone service              DSL             Yes   \n",
       "4           Yes                No      Fiber optic              No   \n",
       "\n",
       "  Online Backup Device Protection Tech Support Streaming TV Streaming Movies  \\\n",
       "0           Yes                No           No           No               No   \n",
       "1            No               Yes           No           No               No   \n",
       "2           Yes                No           No           No               No   \n",
       "3            No               Yes          Yes           No               No   \n",
       "4            No                No           No           No               No   \n",
       "\n",
       "         Contract Paperless Billing             Payment Method  \\\n",
       "0  Month-to-month               Yes           Electronic check   \n",
       "1        One year                No               Mailed check   \n",
       "2  Month-to-month               Yes               Mailed check   \n",
       "3        One year                No  Bank transfer (automatic)   \n",
       "4  Month-to-month               Yes           Electronic check   \n",
       "\n",
       "  Monthly Charges Total Charges Churn        Country       State  Gender  \\\n",
       "0           29,85         29,85    No  United States  California  Female   \n",
       "1           56,95        1889,5    No  United States  California    Male   \n",
       "2           53,85        108,15   Yes  United States  California    Male   \n",
       "3            42,3       1840,75    No  United States  California    Male   \n",
       "4            70,7        151,65   Yes  United States  California  Female   \n",
       "\n",
       "                   Churn Reason  CLTV  \n",
       "0                           NaN  3964  \n",
       "1                           NaN  3441  \n",
       "2  Competitor made better offer  3239  \n",
       "3                           NaN  4307  \n",
       "4                         Moved  2701  "
      ]
     },
     "execution_count": 40,
     "metadata": {},
     "output_type": "execute_result"
    }
   ],
   "source": [
    "#Checando se o read_csv ocorreu da maneira correta\n",
    "df.head()"
   ]
  },
  {
   "cell_type": "markdown",
   "metadata": {},
   "source": [
    "<h3>Dataprep</h3><br/><h4>Tratamento dos dados"
   ]
  },
  {
   "cell_type": "code",
   "execution_count": 41,
   "metadata": {},
   "outputs": [
    {
     "data": {
      "text/plain": [
       "Index(['LoyaltyID', 'Customer ID', 'Senior Citizen', 'Partner', 'Dependents',\n",
       "       'Tenure', 'Phone Service', 'Multiple Lines', 'Internet Service',\n",
       "       'Online Security', 'Online Backup', 'Device Protection', 'Tech Support',\n",
       "       'Streaming TV', 'Streaming Movies', 'Contract', 'Paperless Billing',\n",
       "       'Payment Method', 'Monthly Charges', 'Total Charges', 'Churn',\n",
       "       'Country', 'State', 'Gender', 'Churn Reason', 'CLTV'],\n",
       "      dtype='object')"
      ]
     },
     "execution_count": 41,
     "metadata": {},
     "output_type": "execute_result"
    }
   ],
   "source": [
    "#Listando todas as colunas\n",
    "df.columns"
   ]
  },
  {
   "cell_type": "code",
   "execution_count": 42,
   "metadata": {},
   "outputs": [],
   "source": [
    "#Renomeando todas as colunas para Português\n",
    "depara = {\n",
    "          'Senior Citizen':'Idoso', \n",
    "          'Partner':'Possui_parceiro', \n",
    "          'Dependents':'Possui_dependentes',\n",
    "          'Tenure':'Meses_relacionamento',\n",
    "          'Phone Service':'Possui_telefonia',\n",
    "          'Multiple Lines':'Multipla_linha_tel',\n",
    "          'Internet Service':'Provedor_internet',\n",
    "          'Online Security':'Possui_seguranca_online',\n",
    "          'Online Backup':'Possui_backup_online',\n",
    "          'Device Protection':'Possui_seguro_dispositivo',\n",
    "          'Tech Support':'Usou_suporte_tecnico',\n",
    "          'Streaming TV':'Assinatura_TV',\n",
    "          'Streaming Movies':'Assinatura_Filmes',\n",
    "          'Contract':'Tipo_contrato',\n",
    "          'Paperless Billing':'Fatura_digital',\n",
    "          'Payment Method':'Meio_pagamento',\n",
    "          'Monthly Charges':'Preco_mensal',\n",
    "          'Total Charges':'Preco_total',\n",
    "          'Churn':'Churn',\n",
    "          'Churn Reason':'Motivo do Churn',\n",
    "          'Gender':'Genero',\n",
    "          'Country':'Pais',\n",
    "          'State':'Estado',\n",
    "         }\n",
    "df.rename(columns = depara, inplace = True)"
   ]
  },
  {
   "cell_type": "code",
   "execution_count": 43,
   "metadata": {},
   "outputs": [],
   "source": [
    "#Binarizando variáveis que serão utilizadas\n",
    "def dummy_var(col):\n",
    "    df.loc[df[col] == 'Yes', [col]] = 1\n",
    "    df.loc[df[col] == 'No', [col]] = 0\n",
    "\n",
    "dummy_var('Idoso')\n",
    "dummy_var('Churn')"
   ]
  },
  {
   "cell_type": "code",
   "execution_count": 44,
   "metadata": {},
   "outputs": [
    {
     "data": {
      "text/plain": [
       "(7043, 26)"
      ]
     },
     "execution_count": 44,
     "metadata": {},
     "output_type": "execute_result"
    }
   ],
   "source": [
    "#Checando volumetria do dataframe\n",
    "df.shape"
   ]
  },
  {
   "cell_type": "code",
   "execution_count": 45,
   "metadata": {},
   "outputs": [],
   "source": [
    "#Convertendo Texto para numéricos\n",
    "\n",
    "#Troca , para .\n",
    "df[\"Preco_mensal\"]=df[\"Preco_mensal\"].str.replace(',','.')\n",
    "df[\"Preco_total\"]=df[\"Preco_total\"].str.replace(',','.')\n",
    "\n",
    "#Converte para numérico\n",
    "df['Preco_mensal']=pd.to_numeric(df['Preco_mensal'])\n",
    "df['Preco_mensal']=pd.to_numeric(df['Preco_mensal'])"
   ]
  },
  {
   "cell_type": "markdown",
   "metadata": {},
   "source": [
    "<h3>Plots</h3><br/><h4>Visualização dos dados"
   ]
  },
  {
   "cell_type": "code",
   "execution_count": 46,
   "metadata": {},
   "outputs": [
    {
     "data": {
      "text/plain": [
       "<AxesSubplot:title={'center':'Histograma do tempo de relacionamento'}, ylabel='Frequency'>"
      ]
     },
     "execution_count": 46,
     "metadata": {},
     "output_type": "execute_result"
    },
    {
     "data": {
      "image/png": "[encoded data removed]",
      "text/plain": [
       "<Figure size 864x432 with 1 Axes>"
      ]
     },
     "metadata": {
      "needs_background": "light"
     },
     "output_type": "display_data"
    }
   ],
   "source": [
    "#Histograma do tempo de relacionamento\n",
    "plt.title('Histograma do tempo de relacionamento')\n",
    "df['Meses_relacionamento'].plot(kind='hist')"
   ]
  },
  {
   "cell_type": "code",
   "execution_count": 47,
   "metadata": {},
   "outputs": [
    {
     "data": {
      "image/png": "[encoded data removed]",
      "text/plain": [
       "<Figure size 360x360 with 1 Axes>"
      ]
     },
     "metadata": {},
     "output_type": "display_data"
    }
   ],
   "source": [
    "#% de Churns\n",
    "plt.title('% de Churns')\n",
    "df_plot = df.groupby(['Churn'])['Churn'].count()\n",
    "df_plot.plot.pie(y='Churn',figsize=(5, 5),autopct='%1.1f%%', startangle=90)\n",
    "plt.show()"
   ]
  },
  {
   "cell_type": "code",
   "execution_count": 48,
   "metadata": {},
   "outputs": [
    {
     "data": {
      "image/png": "[encoded data removed]",
      "text/plain": [
       "<Figure size 360x360 with 1 Axes>"
      ]
     },
     "metadata": {},
     "output_type": "display_data"
    }
   ],
   "source": [
    "#% de Multiplas linhas\n",
    "plt.title('% de Multiplas linhas')\n",
    "df_plot = df.groupby(['Multipla_linha_tel'])['Multipla_linha_tel'].count()\n",
    "df_plot.plot.pie(y='Multipla_linha_tel',figsize=(5, 5),autopct='%1.1f%%', startangle=90)\n",
    "plt.show()"
   ]
  },
  {
   "cell_type": "code",
   "execution_count": 49,
   "metadata": {},
   "outputs": [
    {
     "data": {
      "image/png": "[encoded data removed]",
      "text/plain": [
       "<Figure size 360x360 with 1 Axes>"
      ]
     },
     "metadata": {},
     "output_type": "display_data"
    }
   ],
   "source": [
    "#% do método de pagamento\n",
    "plt.title('% do método de pagamento')\n",
    "df_plot = df.groupby(['Meio_pagamento'])['Meio_pagamento'].count()\n",
    "df_plot.plot.pie(y='Meio_pagamento',figsize=(5, 5),autopct='%1.1f%%', startangle=90)\n",
    "plt.show()"
   ]
  },
  {
   "cell_type": "code",
   "execution_count": 50,
   "metadata": {},
   "outputs": [
    {
     "data": {
      "image/png": "[encoded data removed]",
      "text/plain": [
       "<Figure size 360x360 with 1 Axes>"
      ]
     },
     "metadata": {},
     "output_type": "display_data"
    }
   ],
   "source": [
    "#% dos pagamentos por fatura digital\n",
    "plt.title('% dos pagamentos por fatura digital')\n",
    "df_plot = df.groupby(['Fatura_digital'])['Fatura_digital'].count()\n",
    "df_plot.plot.pie(y='Fatura_digital',figsize=(5, 5),autopct='%1.1f%%', startangle=90)\n",
    "plt.show()"
   ]
  },
  {
   "cell_type": "code",
   "execution_count": 54,
   "metadata": {},
   "outputs": [
    {
     "data": {
      "image/png": "[encoded data removed]",
      "text/plain": [
       "<Figure size 360x360 with 1 Axes>"
      ]
     },
     "metadata": {},
     "output_type": "display_data"
    }
   ],
   "source": [
    "#% de Churn por Genero\n",
    "plt.title('% de Churn por Genero')\n",
    "df_plot = df.groupby(['Genero','Churn'])['Genero'].count()\n",
    "df_plot.plot.pie(y='Genero',figsize=(5, 5),autopct='%1.1f%%', startangle=90)\n",
    "plt.show()"
   ]
  },
  {
   "cell_type": "code",
   "execution_count": 23,
   "metadata": {},
   "outputs": [
    {
     "name": "stderr",
     "output_type": "stream",
     "text": [
      "C:\\Users\\gabri\\anaconda3\\lib\\site-packages\\lifelines\\utils\\__init__.py:1181: UserWarning: Attempting to convert an unexpected datatype 'object' to float. Suggestion: 1) use `lifelines.utils.datetimes_to_durations` to do conversions or 2) manually convert to floats/booleans.\n",
      "  warnings.warn(warning_text, UserWarning)\n"
     ]
    },
    {
     "data": {
      "text/plain": [
       "<AxesSubplot:xlabel='timeline'>"
      ]
     },
     "execution_count": 23,
     "metadata": {},
     "output_type": "execute_result"
    },
    {
     "data": {
      "image/png": "[encoded data removed]",
      "text/plain": [
       "<Figure size 864x432 with 1 Axes>"
      ]
     },
     "metadata": {
      "needs_background": "light"
     },
     "output_type": "display_data"
    }
   ],
   "source": [
    "durations = df['Meses_relacionamento'] ## Time to event data of censored and event data\n",
    "event_observed = df['Churn']  ## It has the churned (1) and censored is (0)\n",
    "\n",
    "## create a kmf object as km\n",
    "km = KaplanMeierFitter() ## instantiate the class to create an object\n",
    "\n",
    "## Fit the data into the model\n",
    "km.fit(durations, event_observed,label='Kaplan Meier Estimate')\n",
    "\n",
    "## Create an estimate\n",
    "km.plot()"
   ]
  },
  {
   "cell_type": "code",
   "execution_count": null,
   "metadata": {},
   "outputs": [],
   "source": []
  }
 ],
 "metadata": {
  "kernelspec": {
   "display_name": "Python 3",
   "language": "python",
   "name": "python3"
  },
  "language_info": {
   "codemirror_mode": {
    "name": "ipython",
    "version": 3
   },
   "file_extension": ".py",
   "mimetype": "text/x-python",
   "name": "python",
   "nbconvert_exporter": "python",
   "pygments_lexer": "ipython3",
   "version": "3.8.5"
  }
 },
 "nbformat": 4,
 "nbformat_minor": 4
}
